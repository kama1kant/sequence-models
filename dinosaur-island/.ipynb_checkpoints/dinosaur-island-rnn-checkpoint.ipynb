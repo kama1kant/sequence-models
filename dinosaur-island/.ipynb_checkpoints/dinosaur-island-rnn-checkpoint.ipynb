{
 "cells": [
  {
   "cell_type": "code",
   "execution_count": 2,
   "metadata": {},
   "outputs": [],
   "source": [
    "import numpy as np\n",
    "import random\n",
    "import torch\n",
    "import torch.nn as nn\n",
    "import torch.optim as optim\n",
    "import pdb\n",
    "from torch.utils.data import Dataset, DataLoader\n",
    "%load_ext autoreload\n",
    "%autoreload 2\n",
    "torch.set_printoptions(linewidth=200)"
   ]
  },
  {
   "cell_type": "code",
   "execution_count": 3,
   "metadata": {
    "code_folding": []
   },
   "outputs": [],
   "source": [
    "class RNN(nn.Module):\n",
    "    def __init__(self, input_size, hidden_size, output_size):\n",
    "        super().__init__()\n",
    "        self.linear_hh = nn.Linear(hidden_size, hidden_size)\n",
    "        self.linear_hx = nn.Linear(input_size, hidden_size, bias=False)\n",
    "        self.linear_output = nn.Linear(hidden_size, output_size)\n",
    "    \n",
    "    def forward(self, h_prev, x):\n",
    "        h = torch.tanh(self.linear_hh(h_prev) + self.linear_hx(x))\n",
    "        y = self.linear_output(h)\n",
    "        return h, y"
   ]
  },
  {
   "cell_type": "code",
   "execution_count": 14,
   "metadata": {
    "code_folding": []
   },
   "outputs": [],
   "source": [
    "class Name_Generator(Dataset):\n",
    "    def __init__(self):\n",
    "        super().__init__()\n",
    "        self.init_hparams()\n",
    "        self.getData()\n",
    "#         self.getModel()\n",
    "\n",
    "    def init_hparams(self):\n",
    "        self.device = torch.device(\"cuda:0\" if torch.cuda.is_available() else \"cpu\")\n",
    "        self.hidden_size = 100\n",
    "        self.epochs = 10\n",
    "        self.lr = 1e-2\n",
    "    \n",
    "    def getData(self):\n",
    "        with open('data/dinos.txt') as f:\n",
    "            content = f.read().lower()\n",
    "            self.vocab = sorted(set(content))\n",
    "            self.vocab_size = len(self.vocab)\n",
    "            self.lines = content.splitlines()\n",
    "        self.ch_to_idx = {c:i for i, c in enumerate(self.vocab)}\n",
    "        self.idx_to_ch = {i:c for i, c in enumerate(self.vocab)}\n",
    "        print(self.ch_to_idx)\n",
    "        print(\"lines={}, vocab={}\".format(len(self.lines), self.vocab_size))\n",
    "        \n",
    "    def getBatchData(self, index):\n",
    "        line = self.lines[index]\n",
    "        x_str = ' ' + line\n",
    "        y_str = line + '\\n'\n",
    "        x = torch.zeros([len(x_str), self.vocab_size], dtype=torch.float)\n",
    "        y = torch.empty(len(x_str), dtype=torch.long)\n",
    "        \n",
    "        y[0] = self.ch_to_idx[y_str[0]]\n",
    "        for i, (x_ch, y_ch) in enumerate(zip(x_str[1:], y_str[1:]), 1):\n",
    "            x[i][self.ch_to_idx[x_ch]] = 1\n",
    "            y[i] = self.ch_to_idx[y_ch]\n",
    "                    \n",
    "        return x, y\n",
    "    \n",
    "    def getModel(self):\n",
    "        self.model = RNN(self.vocab_size, self.hidden_size, self.vocab_size).to(self.device)\n",
    "        self.loss_fn = nn.CrossEntropyLoss()\n",
    "        self.optimizer = optim.SGD(self.model.parameters(), lr=self.lr)\n",
    "    \n",
    "    def print_sample(self, sample_idxs):\n",
    "        print(self.idx_to_ch[sample_idxs[0]].upper(), end='')\n",
    "        [print(self.idx_to_ch[x], end='') for x in sample_idxs[1:]]\n",
    "    \n",
    "    def sample(self):\n",
    "        self.model.eval()\n",
    "        word_size=0\n",
    "        newline_idx = self.ch_to_idx['\\n']\n",
    "        indices = []\n",
    "        pred_char_idx = -1\n",
    "        h_prev = torch.zeros([1, self.hidden_size], dtype=torch.float, device=self.device)\n",
    "        x = h_prev.new_zeros([1, self.vocab_size])\n",
    "        with torch.no_grad():\n",
    "            while pred_char_idx != newline_idx and word_size != 50:\n",
    "                h_prev, y_pred = self.model(h_prev, x)\n",
    "                softmax_scores = torch.softmax(y_pred, dim=1).cpu().numpy().ravel()\n",
    "                np.random.seed(np.random.randint(1, 5000))\n",
    "                idx = np.random.choice(np.arange(self.vocab_size), p=softmax_scores)\n",
    "                indices.append(idx)\n",
    "\n",
    "                x = (y_pred == y_pred.max(1)[0]).float()\n",
    "                pred_char_idx = idx\n",
    "\n",
    "                word_size += 1\n",
    "\n",
    "            if word_size == 50:\n",
    "                indices.append(newline_idx)\n",
    "        return indices\n",
    "    \n",
    "    def train(self):\n",
    "        for line_num in range(len(self.lines)):\n",
    "            x, y = self.getBatchData(line_num)\n",
    "            x = torch.unsqueeze(x, 0)\n",
    "            y = torch.unsqueeze(y, 0)\n",
    "            \n",
    "            self.model.train()\n",
    "            loss = 0\n",
    "            self.optimizer.zero_grad()\n",
    "            h_prev = torch.zeros([1, self.hidden_size], dtype=torch.float, device=self.device)\n",
    "            x, y = x.to(self.device), y.to(self.device)\n",
    "            for i in range(x.shape[1]):\n",
    "                h_prev, y_pred = self.model(h_prev, x[:, i])\n",
    "                loss += self.loss_fn(y_pred, y[:, i])\n",
    "\n",
    "#             print(line_num)\n",
    "            if (line_num+1) % 100 == 0:\n",
    "                self.print_sample(self.sample())\n",
    "\n",
    "            loss.backward()\n",
    "            torch.nn.utils.clip_grad_norm_(self.model.parameters(), 5) #gradient clipping\n",
    "            self.optimizer.step()\n",
    "    \n",
    "    def fit(self):\n",
    "        for e in range(1, self.epochs+1):\n",
    "            print(f'{\"-\"*20} Epoch {e} {\"-\"*20}')\n",
    "            self.train()\n",
    "    \n",
    "    def print_ds(self, num_examples=10):\n",
    "        for i in range(len(self.lines)):\n",
    "            x, y = self.getBatchData(i)\n",
    "            print('*'*50)\n",
    "            x_str, y_str = '', ''\n",
    "            for idx in y:\n",
    "                y_str += self.idx_to_ch[idx.item()]\n",
    "            print(repr(y_str))\n",
    "\n",
    "            for t in x[1:]:\n",
    "                x_str += self.idx_to_ch[t.argmax().item()]\n",
    "            print(repr(x_str))\n",
    "\n",
    "            if i == num_examples:\n",
    "                break"
   ]
  },
  {
   "cell_type": "code",
   "execution_count": 15,
   "metadata": {},
   "outputs": [
    {
     "name": "stdout",
     "output_type": "stream",
     "text": [
      "{'\\n': 0, 'a': 1, 'b': 2, 'c': 3, 'd': 4, 'e': 5, 'f': 6, 'g': 7, 'h': 8, 'i': 9, 'j': 10, 'k': 11, 'l': 12, 'm': 13, 'n': 14, 'o': 15, 'p': 16, 'q': 17, 'r': 18, 's': 19, 't': 20, 'u': 21, 'v': 22, 'w': 23, 'x': 24, 'y': 25, 'z': 26}\n",
      "lines=1536, vocab=27\n",
      "['\\n', 'a', 'b', 'c', 'd', 'e', 'f', 'g', 'h', 'i', 'j', 'k', 'l', 'm', 'n', 'o', 'p', 'q', 'r', 's', 't', 'u', 'v', 'w', 'x', 'y', 'z']\n",
      "19909\n",
      "['aachenosaurus', 'aardonyx', 'abdallahsaurus', 'abelisaurus', 'abrictosaurus', 'abrosaurus', 'abydosaurus', 'acanthopholis', 'achelousaurus', 'acheroraptor', 'achillesaurus', 'achillobator', 'acristavus', 'acrocanthosaurus', 'acrotholus', 'actiosaurus', 'adamantisaurus', 'adasaurus', 'adelolophus', 'adeopapposaurus', 'aegyptosaurus', 'aeolosaurus', 'aepisaurus', 'aepyornithomimus', 'aerosteon', 'aetonyxafromimus', 'afrovenator', 'agathaumas', 'aggiosaurus', 'agilisaurus', 'agnosphitys', 'agrosaurus', 'agujaceratops', 'agustinia', 'ahshislepelta', 'airakoraptor', 'ajancingenia', 'ajkaceratops', 'alamosaurus', 'alaskacephale', 'albalophosaurus', 'albertaceratops', 'albertadromeus', 'albertavenator', 'albertonykus', 'albertosaurus', 'albinykus', 'albisaurus', 'alcovasaurus', 'alectrosaurus', 'aletopelta', 'algoasaurus', 'alioramus', 'aliwalia', 'allosaurus', 'almas', 'alnashetri', 'alocodon', 'altirhinus', 'altispinax', 'alvarezsaurus', 'alwalkeria', 'alxasaurus', 'amargasaurus', 'amargastegos', 'amargatitanis', 'amazonsaurus', 'ammosaurus', 'ampelosaurus', 'amphicoelias', 'amphicoelicaudia', 'amphisaurus', 'amtocephale', 'amtosaurus', 'amurosaurus', 'amygdalodon', 'anabisetia', 'anasazisaurus', 'anatosaurus', 'anatotitan', 'anchiceratops', 'anchiornis', 'anchisaurus', 'andesaurus', 'andhrasaurus', 'angaturama', 'angloposeidon', 'angolatitan', 'angulomastacator', 'aniksosaurus', 'animantarx', 'ankistrodon', 'ankylosaurus', 'anodontosaurus', 'anoplosaurus', 'anserimimus', 'antarctopelta', 'antarctosaurus', 'antetonitrus', 'anthodon', 'antrodemus', 'anzu', 'aoniraptor', 'aorun', 'apatodon', 'apatoraptor', 'apatosaurus', 'appalachiosaurus', 'aquilops', 'aragosaurus', 'aralosaurus', 'araucanoraptor', 'archaeoceratops', 'archaeodontosaurus', 'archaeopteryx', 'archaeoraptor', 'archaeornis', 'archaeornithoides', 'archaeornithomimus', 'arcovenator', 'arctosaurus', 'arcusaurus', 'arenysaurus', 'argentinosaurus', 'argyrosaurus', 'aristosaurus', 'aristosuchus', 'arizonasaurus', 'arkansaurus', 'arkharavia', 'arrhinoceratops', 'arstanosaurus', 'asiaceratops', 'asiamericana', 'asiatosaurus', 'astrodon', 'astrodonius', 'astrodontaurus', 'astrophocaudia', 'asylosaurus', 'atacamatitan', 'atlantosaurus', 'atlasaurus', 'atlascopcosaurus', 'atrociraptor', 'atsinganosaurus', 'aublysodon', 'aucasaurus', 'augustia', 'augustynolophus', 'auroraceratops', 'aurornis', 'australodocus', 'australovenator', 'austrocheirus', 'austroposeidon', 'austroraptor', 'austrosaurus', 'avaceratops', 'avalonia', 'avalonianus', 'aviatyrannis', 'avimimus', 'avisaurus', 'avipes', 'azendohsaurus', 'bactrosaurus', 'bagaceratops', 'bagaraatan', 'bahariasaurus', 'bainoceratops', 'bakesaurus', 'balaur', 'balochisaurus', 'bambiraptor', 'banji', 'baotianmansaurus', 'barapasaurus', 'barilium', 'barosaurus', 'barrosasaurus', 'barsboldia', 'baryonyx', 'bashunosaurus', 'basutodon', 'bathygnathus', 'batyrosaurus', 'baurutitan', 'bayosaurus', 'becklespinax', 'beelemodon', 'beibeilong', 'beipiaognathus', 'beipiaosaurus', 'beishanlong', 'bellusaurus', 'belodon', 'berberosaurus', 'betasuchus', 'bicentenaria', 'bienosaurus', 'bihariosaurus', 'bilbeyhallorum', 'bissektipelta', 'bistahieversor', 'blancocerosaurus', 'blasisaurus', 'blikanasaurus', 'bolong', 'bonapartenykus', 'bonapartesaurus', 'bonatitan', 'bonitasaura', 'borealopelta', 'borealosaurus', 'boreonykus', 'borogovia', 'bothriospondylus', 'brachiosaurus', 'brachyceratops', 'brachylophosaurus', 'brachypodosaurus', 'brachyrophus', 'brachytaenius', 'brachytrachelopan', 'bradycneme', 'brasileosaurus', 'brasilotitan', 'bravoceratops', 'breviceratops', 'brohisaurus', 'brontomerus', 'brontoraptor', 'brontosaurus', 'bruhathkayosaurus', 'bugenasaura', 'buitreraptor', 'burianosaurus', 'buriolestes', 'byranjaffia', 'byronosaurus', 'caenagnathasia', 'caenagnathus', 'calamosaurus', 'calamospondylus', 'calamospondylus', 'callovosaurus', 'camarasaurus', 'camarillasaurus', 'camelotia', 'camposaurus', 'camptonotus', 'camptosaurus', 'campylodon', 'campylodoniscus', 'canardia', 'capitalsaurus', 'carcharodontosaurus', 'cardiodon', 'carnotaurus', 'caseosaurus', 'cathartesaura', 'cathetosaurus', 'caudipteryx', 'caudocoelus', 'caulodon', 'cedarosaurus', 'cedarpelta', 'cedrorestes', 'centemodon', 'centrosaurus', 'cerasinops', 'ceratonykus', 'ceratops', 'ceratosaurus', 'cetiosauriscus', 'cetiosaurus', 'changchunsaurus', 'changdusaurus', 'changyuraptor', 'chaoyangsaurus', 'charonosaurus', 'chasmosaurus', 'chassternbergia', 'chebsaurus', 'chenanisaurus', 'cheneosaurus', 'chialingosaurus', 'chiayusaurus', 'chienkosaurus', 'chihuahuasaurus', 'chilantaisaurus', 'chilesaurus', 'chindesaurus', 'chingkankousaurus', 'chinshakiangosaurus', 'chirostenotes', 'choconsaurus', 'chondrosteosaurus', 'chromogisaurus', 'chuandongocoelurus', 'chuanjiesaurus', 'chuanqilong', 'chubutisaurus', 'chungkingosaurus', 'chuxiongosaurus', 'cinizasaurus', 'cionodon', 'citipati', 'cladeiodon', 'claorhynchus', 'claosaurus', 'clarencea', 'clasmodosaurus', 'clepsysaurus', 'coahuilaceratops', 'coelophysis', 'coelosaurus', 'coeluroides', 'coelurosauravus', 'coelurus', 'colepiocephale', 'coloradia', 'coloradisaurus', 'colossosaurus', 'comahuesaurus', 'comanchesaurus', 'compsognathus', 'compsosuchus', 'concavenator', 'conchoraptor', 'condorraptor', 'coronosaurus', 'corythoraptor', 'corythosaurus', 'craspedodon', 'crataeomus', 'craterosaurus', 'creosaurus', 'crichtonpelta', 'crichtonsaurus', 'cristatusaurus', 'crosbysaurus', 'cruxicheiros', 'cryolophosaurus', 'cryptodraco', 'cryptoraptor', 'cryptosaurus', 'cryptovolans', 'cumnoria', 'daanosaurus', 'dacentrurus', 'dachongosaurus', 'daemonosaurus', 'dahalokely', 'dakosaurus', 'dakotadon', 'dakotaraptor', 'daliansaurus', 'damalasaurus', 'dandakosaurus', 'danubiosaurus', 'daptosaurus', 'darwinsaurus', 'dashanpusaurus', 'daspletosaurus', 'dasygnathoides', 'dasygnathus', 'datanglong', 'datonglong', 'datousaurus', 'daurosaurus', 'daxiatitan', 'deinocheirus', 'deinodon', 'deinonychus', 'delapparentia', 'deltadromeus', 'demandasaurus', 'denversaurus', 'deuterosaurus', 'diabloceratops', 'diamantinasaurus', 'dianchungosaurus', 'diceratops', 'diceratusdiclonius', 'dicraeosaurus', 'didanodondilong', 'dilophosaurus', 'diluvicursor', 'dimodosaurus', 'dinheirosaurus', 'dinodocus', 'dinotyrannus', 'diplodocus', 'diplotomodon', 'diracodon', 'dolichosuchus', 'dollodon', 'domeykosaurus', 'dongbeititan', 'dongyangopelta', 'dongyangosaurus', 'doratodon', 'doryphorosaurus', 'draconyx', 'dracopelta', 'dracoraptor', 'dracorex', 'dracovenator', 'dravidosaurus', 'dreadnoughtus', 'drinker', 'dromaeosauroides', 'dromaeosaurus', 'dromiceiomimus', 'dromicosaurus', 'drusilasaura', 'dryosaurus', 'dryptosauroides', 'dryptosaurus', 'dubreuillosaurus', 'duriatitan', 'duriavenator', 'dynamosaurus', 'dyoplosaurus', 'dysalotosaurus', 'dysganus', 'dyslocosaurus', 'dystrophaeus', 'dystylosaurus', 'echinodon', 'edmarka', 'edmontonia', 'edmontosaurus', 'efraasia', 'einiosaurus', 'ekrixinatosaurus', 'elachistosuchus', 'elaltitan', 'elaphrosaurus', 'elmisaurus', 'elopteryx', 'elosaurus', 'elrhazosaurus', 'elvisaurus', 'emausaurus', 'embasaurus', 'enigmosaurus', 'eoabelisaurus', 'eobrontosaurus', 'eocarcharia', 'eoceratops', 'eocursor', 'eodromaeus', 'eohadrosaurus', 'eolambia', 'eomamenchisaurus', 'eoplophysis', 'eoraptor', 'eosinopteryx', 'eotrachodon', 'eotriceratops', 'eotyrannus', 'eousdryosaurus', 'epachthosaurus', 'epanterias', 'ephoenosaurus', 'epicampodon', 'epichirostenotes', 'epidendrosaurus', 'epidexipteryx', 'equijubus', 'erectopus', 'erketu', 'erliansaurus', 'erlikosaurus', 'eshanosaurus', 'euacanthus', 'eucamerotus', 'eucentrosaurus', 'eucercosaurus', 'eucnemesaurus', 'eucoelophysis', 'eugongbusaurus', 'euhelopus', 'euoplocephalus', 'eupodosaurus', 'eureodon', 'eurolimnornis', 'euronychodon', 'europasaurus', 'europatitan', 'europelta', 'euskelosaurus', 'eustreptospondylus', 'fabrosaurus', 'falcarius', 'fendusaurus', 'fenestrosaurus', 'ferganasaurus', 'ferganastegos', 'ferganocephale', 'foraminacephale', 'fosterovenator', 'frenguellisaurus', 'fruitadens', 'fukuiraptor', 'fukuisaurus', 'fukuititan', 'fukuivenator', 'fulengia', 'fulgurotherium', 'fusinasus', 'fusuisaurus', 'futabasaurus', 'futalognkosaurus', 'gadolosaurus', 'galeamopus', 'galesaurus', 'gallimimus', 'galtonia', 'galveosaurus', 'galvesaurus', 'gannansaurus', 'gansutitan', 'ganzhousaurus', 'gargoyleosaurus', 'garudimimus', 'gasosaurus', 'gasparinisaura', 'gastonia', 'gavinosaurus', 'geminiraptor', 'genusaurus', 'genyodectes', 'geranosaurus', 'gideonmantellia', 'giganotosaurus', 'gigantoraptor', 'gigantosaurus', 'gigantosaurus', 'gigantoscelus', 'gigantspinosaurus', 'gilmoreosaurus', 'ginnareemimus', 'giraffatitan', 'glacialisaurus', 'glishades', 'glyptodontopelta', 'skeleton', 'gobiceratops', 'gobisaurus', 'gobititan', 'gobivenator', 'godzillasaurus', 'gojirasaurus', 'gondwanatitan', 'gongbusaurus', 'gongpoquansaurus', 'gongxianosaurus', 'gorgosaurus', 'goyocephale', 'graciliceratops', 'graciliraptor', 'gracilisuchus', 'gravitholus', 'gresslyosaurus', 'griphornis', 'griphosaurus', 'gryphoceratops', 'gryponyx', 'gryposaurus', 'gspsaurus', 'guaibasaurus', 'gualicho', 'guanlong', 'gwyneddosaurus', 'gyposaurus', 'hadrosauravus', 'hadrosaurus', 'haestasaurus', 'hagryphus', 'hallopus', 'halszkaraptor', 'halticosaurus', 'hanssuesia', 'hanwulosaurus', 'haplocanthosaurus', 'haplocanthus', 'haplocheirus', 'harpymimus', 'haya', 'hecatasaurus', 'heilongjiangosaurus', 'heishansaurus', 'helioceratops', 'helopus', 'heptasteornis', 'herbstosaurus', 'herrerasaurus', 'hesperonychus', 'hesperosaurus', 'heterodontosaurus', 'heterosaurus', 'hexing', 'hexinlusaurus', 'heyuannia', 'hierosaurus', 'hippodraco', 'hironosaurus', 'hisanohamasaurus', 'histriasaurus', 'homalocephale', 'honghesaurus', 'hongshanosaurus', 'hoplitosaurus', 'hoplosaurus', 'horshamosaurus', 'hortalotarsus', 'huabeisaurus', 'hualianceratops', 'huanansaurus', 'huanghetitan', 'huangshanlong', 'huaxiagnathus', 'huaxiaosaurus', 'huaxiasaurus', 'huayangosaurus', 'hudiesaurus', 'huehuecanauhtlus', 'hulsanpes', 'hungarosaurus', 'huxleysaurus', 'hylaeosaurus', 'hylosaurushypacrosaurus', 'hypselorhachis', 'hypselosaurus', 'hypselospinus', 'hypsibema', 'hypsilophodon', 'hypsirhophus', 'habodcraniosaurus', 'ichthyovenator', 'ignavusaurus', 'iguanacolossus', 'iguanodon', 'iguanoides', 'skeleton', 'iguanosaurus', 'iliosuchus', 'ilokelesia', 'incisivosaurus', 'indosaurus', 'indosuchus', 'ingenia', 'inosaurus', 'irritator', 'isaberrysaura', 'isanosaurus', 'ischioceratops', 'ischisaurus', 'ischyrosaurus', 'isisaurus', 'issasaurus', 'itemirus', 'iuticosaurus', 'jainosaurus', 'jaklapallisaurus', 'janenschia', 'jaxartosaurus', 'jeholosaurus', 'jenghizkhan', 'jensenosaurus', 'jeyawati', 'jianchangosaurus', 'jiangjunmiaosaurus', 'jiangjunosaurus', 'jiangshanosaurus', 'jiangxisaurus', 'jianianhualong', 'jinfengopteryx', 'jingshanosaurus', 'jintasaurus', 'jinzhousaurus', 'jiutaisaurus', 'jobaria', 'jubbulpuria', 'judiceratops', 'jurapteryx', 'jurassosaurus', 'juratyrant', 'juravenator', 'kagasaurus', 'kaijiangosaurus', 'kakuru', 'kangnasaurus', 'karongasaurus', 'katepensaurus', 'katsuyamasaurus', 'kayentavenator', 'kazaklambia', 'kelmayisaurus', 'kemkemiakentrosaurus', 'kentrurosaurus', 'kerberosaurus', 'kentrosaurus', 'khaan', 'khetranisaurus', 'kileskus', 'kinnareemimus', 'kitadanisaurus', 'kittysaurus', 'klamelisauruskol', 'koparion', 'koreaceratops', 'koreanosaurus', 'koreanosaurus', 'koshisaurus', 'kosmoceratops', 'kotasaurus', 'koutalisaurus', 'kritosaurus', 'kryptops', 'krzyzanowskisaurus', 'kukufeldia', 'kulceratops', 'kulindadromeus', 'kulindapteryx', 'kunbarrasaurus', 'kundurosaurus', 'kunmingosaurus', 'kuszholia', 'labocania', 'labrosaurus', 'laelaps', 'laevisuchus', 'lagerpeton', 'lagosuchus', 'laiyangosaurus', 'lamaceratops', 'lambeosaurus', 'lametasaurus', 'lamplughsaura', 'lanasaurus', 'lancangosaurus', 'lancanjiangosaurus', 'lanzhousaurus', 'laosaurus', 'lapampasaurus', 'laplatasaurus', 'lapparentosaurus', 'laquintasaura', 'latenivenatrix', 'latirhinus', 'leaellynasaura', 'leinkupal', 'leipsanosaurus', 'lengosaurus', 'leonerasaurus', 'lepidocheirosaurus', 'lepidus', 'leptoceratops', 'leptorhynchos', 'leptospondylus', 'leshansaurus', 'lesothosaurus', 'lessemsaurus', 'levnesovia', 'lewisuchus', 'lexovisaurus', 'leyesaurus', 'liaoceratops', 'liaoningosaurus', 'liaoningtitan', 'liaoningvenator', 'liassaurus', 'libycosaurus', 'ligabueino', 'ligabuesaurus', 'ligomasaurus', 'likhoelesaurus', 'liliensternus', 'limaysaurus', 'limnornis', 'limnosaurus', 'limusaurus', 'linhenykus', 'linheraptor', 'linhevenator', 'lirainosaurus', 'lisboasaurusliubangosaurus', 'lohuecotitan', 'loncosaurus', 'longisquama', 'longosaurus', 'lophorhothon', 'lophostropheus', 'loricatosaurus', 'loricosaurus', 'losillasaurus', 'lourinhanosaurus', 'lourinhasaurus', 'luanchuanraptor', 'luanpingosaurus', 'lucianosaurus', 'lucianovenator', 'lufengosaurus', 'lukousaurus', 'luoyanggia', 'lurdusaurus', 'lusitanosaurus', 'lusotitan', 'lycorhinus', 'lythronax', 'macelognathus', 'machairasaurus', 'machairoceratops', 'macrodontophion', 'macrogryphosaurus', 'macrophalangia', 'macroscelosaurus', 'macrurosaurus', 'madsenius', 'magnapaulia', 'magnamanus', 'magnirostris', 'magnosaurus', 'magulodon', 'magyarosaurus', 'mahakala', 'maiasaura', 'majungasaurus', 'majungatholus', 'malarguesaurus', 'malawisaurus', 'maleevosaurus', 'maleevus', 'mamenchisaurus', 'manidens', 'mandschurosaurus', 'manospondylus', 'mantellisaurus', 'mantellodon', 'mapusaurus', 'marasuchus', 'marisaurus', 'marmarospondylus', 'marshosaurus', 'martharaptor', 'masiakasaurus', 'massospondylus', 'matheronodon', 'maxakalisaurus', 'medusaceratops', 'megacervixosaurus', 'megadactylus', 'megadontosaurus', 'megalosaurus', 'megapnosaurus', 'megaraptor', 'mei', 'melanorosaurus', 'mendozasaurus', 'mercuriceratops', 'meroktenos', 'metriacanthosaurus', 'microcephale', 'microceratops', 'microceratus', 'microcoelus', 'microdontosaurus', 'microhadrosaurus', 'micropachycephalosaurus', 'microraptor', 'microvenator', 'mierasaurus', 'mifunesaurus', 'minmi', 'minotaurasaurus', 'miragaia', 'mirischia', 'moabosaurus', 'mochlodon', 'mohammadisaurus', 'mojoceratops', 'mongolosaurus', 'monkonosaurus', 'monoclonius', 'monolophosaurus', 'mononychus', 'mononykus', 'montanoceratops', 'morelladon', 'morinosaurus', 'morosaurus', 'morrosaurus', 'mosaiceratops', 'moshisaurus', 'mtapaiasaurus', 'mtotosaurus', 'murusraptor', 'mussaurus', 'muttaburrasaurus', 'muyelensaurus', 'mymoorapelta', 'naashoibitosaurus', 'nambalia', 'nankangia', 'nanningosaurus', 'nanosaurus', 'nanotyrannus', 'nanshiungosaurus', 'nanuqsaurus', 'nanyangosaurus', 'narambuenatitan', 'nasutoceratops', 'natronasaurus', 'nebulasaurus', 'nectosaurus', 'nedcolbertia', 'nedoceratops', 'neimongosaurus', 'nemegtia', 'nemegtomaia', 'nemegtosaurus', 'neosaurus', 'neosodon', 'neovenator', 'neuquenraptor', 'neuquensaurus', 'newtonsaurus', 'ngexisaurus', 'nicksaurus', 'nigersaurus', 'ningyuansaurus', 'niobrarasaurus', 'nipponosaurus', 'noasaurus', 'nodocephalosaurus', 'nodosaurus', 'nomingia', 'nopcsaspondylus', 'normanniasaurus', 'nothronychus', 'notoceratops', 'notocolossus', 'notohypsilophodon', 'nqwebasaurus', 'nteregosaurus', 'nurosaurus', 'nuthetes', 'nyasasaurus', 'nyororosaurus', 'ohmdenosaurus', 'ojoceratops', 'ojoraptorsaurus', 'oligosaurus', 'olorotitan', 'omeisaurus', 'omosaurus', 'onychosaurus', 'oohkotokia', 'opisthocoelicaudia', 'oplosaurus', 'orcomimus', 'orinosaurusorkoraptor', 'ornatotholusornithodesmus', 'ornithoides', 'ornitholestes', 'ornithomerus', 'ornithomimoides', 'ornithomimus', 'ornithopsis', 'ornithosuchus', 'ornithotarsus', 'orodromeus', 'orosaurus', 'orthogoniosaurus', 'orthomerus', 'oryctodromeus', 'oshanosaurus', 'osmakasaurus', 'ostafrikasaurus', 'ostromia', 'othnielia', 'othnielosaurus', 'otogosaurus', 'ouranosaurus', 'overosaurus', 'oviraptor', 'ovoraptor', 'owenodon', 'oxalaia', 'ozraptor', 'pachycephalosaurus', 'pachyrhinosaurus', 'pachysauriscus', 'pachysaurops', 'pachysaurus', 'pachyspondylus', 'pachysuchus', 'padillasaurus', 'pakisaurus', 'palaeoctonus', 'palaeocursornis', 'palaeolimnornis', 'palaeopteryx', 'palaeosauriscus', 'palaeosaurus', 'palaeosaurus', 'palaeoscincus', 'paleosaurus', 'paludititan', 'paluxysaurus', 'pampadromaeus', 'pamparaptor', 'panamericansaurus', 'pandoravenator', 'panguraptor', 'panoplosaurus', 'panphagia', 'pantydraco', 'paraiguanodon', 'paralititan', 'paranthodon', 'pararhabdodon', 'parasaurolophus', 'pareiasaurus', 'parksosaurus', 'paronychodon', 'parrosaurus', 'parvicursor', 'patagonykus', 'patagosaurus', 'patagotitan', 'pawpawsaurus', 'pectinodon', 'pedopenna', 'pegomastax', 'peishansaurus', 'pekinosaurus', 'pelecanimimus', 'pellegrinisaurus', 'peloroplites', 'pelorosaurus', 'peltosaurus', 'penelopognathus', 'pentaceratops', 'petrobrasaurus', 'phaedrolosaurus', 'philovenator', 'phuwiangosaurus', 'phyllodon', 'piatnitzkysaurus', 'picrodon', 'pinacosaurus', 'pisanosaurus', 'pitekunsaurus', 'piveteausaurus', 'planicoxa', 'plateosauravus', 'plateosaurus', 'platyceratops', 'plesiohadros', 'pleurocoelus', 'pleuropeltus', 'pneumatoarthrus', 'pneumatoraptor', 'podokesaurus', 'poekilopleuron', 'polacanthoides', 'polacanthus', 'polyodontosaurus', 'polyonax', 'ponerosteus', 'poposaurus', 'parasaurolophus', 'postosuchus', 'powellvenator', 'pradhania', 'prenocephale', 'prenoceratops', 'priconodon', 'priodontognathus', 'proa', 'probactrosaurus', 'probrachylophosaurus', 'proceratops', 'proceratosaurus', 'procerosaurus', 'procerosaurus', 'procheneosaurus', 'procompsognathus', 'prodeinodon', 'proiguanodon', 'propanoplosaurus', 'proplanicoxa', 'prosaurolophus', 'protarchaeopteryx', 'protecovasaurus', 'protiguanodon', 'protoavis', 'protoceratops', 'protognathosaurus', 'protognathus', 'protohadros', 'protorosaurus', 'protorosaurus', 'protrachodon', 'proyandusaurus', 'pseudolagosuchus', 'psittacosaurus', 'pteropelyx', 'pterospondylus', 'puertasaurus', 'pukyongosaurus', 'pulanesaura', 'pycnonemosaurus', 'pyroraptor', 'qantassaurus', 'qianzhousaurus', 'qiaowanlong', 'qijianglong', 'qinlingosaurus', 'qingxiusaurus', 'qiupalong', 'quaesitosaurus', 'quetecsaurus', 'quilmesaurus', 'rachitrema', 'rahiolisaurus', 'rahona', 'rahonavis', 'rajasaurus', 'rapator', 'rapetosaurus', 'raptorex', 'ratchasimasaurus', 'rativates', 'rayososaurus', 'razanandrongobe', 'rebbachisaurus', 'regaliceratops', 'regnosaurus', 'revueltosaurus', 'rhabdodon', 'rhadinosaurus', 'rhinorex', 'rhodanosaurus', 'rhoetosaurus', 'rhopalodon', 'riabininohadros', 'richardoestesia', 'rileya', 'rileyasuchus', 'rinchenia', 'rinconsaurus', 'rioarribasaurus', 'riodevasaurus', 'riojasaurus', 'riojasuchus', 'rocasaurus', 'roccosaurus', 'rubeosaurus', 'ruehleia', 'rugocaudia', 'rugops', 'rukwatitan', 'ruyangosaurus', 'sacisaurus', 'sahaliyania', 'saichania', 'saldamosaurus', 'salimosaurus', 'saltasaurus', 'saltopus', 'saltriosaurus', 'sanchusaurus', 'sangonghesaurus', 'sanjuansaurus', 'sanpasaurus', 'santanaraptor', 'saraikimasoom', 'sarahsaurus', 'sarcolestes', 'sarcosaurus', 'sarmientosaurus', 'saturnalia', 'sauraechinodon', 'saurolophus', 'sauroniops', 'sauropelta', 'saurophaganax', 'saurophagus', 'sauroplites', 'sauroposeidon', 'saurornithoides', 'saurornitholestes', 'savannasaurus', 'scansoriopteryx', 'scaphonyx', 'scelidosaurus', 'scipionyx', 'sciurumimus', 'scleromochlus', 'scolosaurus', 'scutellosaurus', 'secernosaurus', 'sefapanosaurus', 'segisaurus', 'segnosaurus', 'seismosaurus', 'seitaad', 'selimanosaurus', 'sellacoxa', 'sellosaurus', 'serendipaceratops', 'serikornis', 'shamosaurus', 'shanag', 'shanshanosaurus', 'shantungosaurus', 'shanxia', 'shanyangosaurus', 'shaochilong', 'shenzhousaurus', 'shidaisaurus', 'shingopana', 'shixinggia', 'shuangbaisaurus', 'shuangmiaosaurus', 'shunosaurus', 'shuvosaurus', 'shuvuuia', 'siamodon', 'siamodracon', 'siamosaurus', 'siamotyrannus', 'siats', 'sibirosaurus', 'sibirotitan', 'sidormimus', 'sigilmassasaurus', 'silesaurus', 'siluosaurus', 'silvisaurus', 'similicaudipteryx', 'sinocalliopteryx', 'sinoceratops', 'sinocoelurus', 'sinopelta', 'sinopeltosaurus', 'sinornithoides', 'sinornithomimus', 'sinornithosaurus', 'sinosauropteryx', 'sinosaurus', 'sinotyrannus', 'sinovenator', 'sinraptor', 'sinusonasus', 'sirindhorna', 'skorpiovenator', 'smilodon', 'sonidosaurus', 'sonorasaurus', 'soriatitan', 'sphaerotholus', 'sphenosaurus', 'sphenospondylus', 'spiclypeus', 'spinophorosaurus', 'spinops', 'spinosaurus', 'spinostropheus', 'spinosuchus', 'spondylosoma', 'squalodon', 'staurikosaurus', 'stegoceras', 'stegopelta', 'stegosaurides', 'stegosaurus', 'stenonychosaurus', 'stenopelix', 'stenotholus', 'stephanosaurus', 'stereocephalus', 'sterrholophus', 'stokesosaurus', 'stormbergia', 'strenusaurus', 'streptospondylus', 'struthiomimus', 'struthiosaurus', 'stygimoloch', 'stygivenator', 'styracosaurus', 'succinodon', 'suchomimus', 'suchosaurus', 'suchoprion', 'sugiyamasaurus', 'skeleton', 'sulaimanisaurus', 'supersaurus', 'suuwassea', 'suzhousaurus', 'symphyrophus', 'syngonosaurus', 'syntarsus', 'syrmosaurus', 'szechuanosaurus', 'tachiraptor', 'talarurus', 'talenkauen', 'talos', 'tambatitanis', 'tangvayosaurus', 'tanius', 'tanycolagreus', 'tanystropheus', 'tanystrosuchus', 'taohelong', 'tapinocephalus', 'tapuiasaurus', 'tarascosaurus', 'tarbosaurus', 'tarchia', 'tastavinsaurus', 'tatankacephalus', 'tatankaceratops', 'tataouinea', 'tatisaurus', 'taurovenator', 'taveirosaurus', 'tawa', 'tawasaurus', 'tazoudasaurus', 'technosaurus', 'tecovasaurus', 'tehuelchesaurus', 'teihivenator', 'teinurosaurus', 'teleocrater', 'telmatosaurus', 'tenantosaurus', 'tenchisaurus', 'tendaguria', 'tengrisaurus', 'tenontosaurus', 'teratophoneus', 'teratosaurus', 'termatosaurus', 'tethyshadros', 'tetragonosaurus', 'texacephale', 'texasetes', 'teyuwasu', 'thecocoelurus', 'thecodontosaurus', 'thecospondylus', 'theiophytalia', 'therizinosaurus', 'therosaurus', 'thescelosaurus', 'thespesius', 'thotobolosaurus', 'tianchisaurus', 'tianchungosaurus', 'tianyulong', 'tianyuraptor', 'tianzhenosaurus', 'tichosteus', 'tienshanosaurus', 'timimus', 'timurlengia', 'titanoceratops', 'titanosaurus', 'titanosaurus', 'tochisaurus', 'tomodon', 'tonganosaurus', 'tongtianlong', 'tonouchisaurus', 'torilion', 'tornieria', 'torosaurus', 'torvosaurus', 'tototlmimus', 'trachodon', 'traukutitan', 'trialestes', 'triassolestes', 'tribelesodon', 'triceratops', 'trigonosaurus', 'trimucrodon', 'trinisaura', 'triunfosaurus', 'troodon', 'tsaagan', 'tsagantegia', 'tsintaosaurus', 'tugulusaurus', 'tuojiangosaurus', 'turanoceratops', 'turiasaurus', 'tylocephale', 'tylosteus', 'tyrannosaurus', 'tyrannotitan', 'illustration', 'uberabatitan', 'udanoceratops', 'ugrosaurus', 'ugrunaaluk', 'uintasaurus', 'ultrasauros', 'ultrasaurus', 'ultrasaurus', 'umarsaurus', 'unaysaurus', 'unenlagia', 'unescoceratops', 'unicerosaurus', 'unquillosaurus', 'urbacodon', 'utahceratops', 'utahraptor', 'uteodon', 'vagaceratops', 'vahiny', 'valdoraptor', 'valdosaurus', 'variraptor', 'velociraptor', 'vectensia', 'vectisaurus', 'velafrons', 'velocipes', 'velociraptor', 'velocisaurus', 'venaticosuchus', 'venenosaurus', 'veterupristisaurus', 'viavenator', 'vitakridrinda', 'vitakrisaurus', 'volkheimeria', 'vouivria', 'vulcanodon', 'wadhurstia', 'wakinosaurus', 'walgettosuchus', 'walkeria', 'walkersaurus', 'wangonisaurus', 'wannanosaurus', 'wellnhoferia', 'wendiceratops', 'wiehenvenator', 'willinakaqe', 'wintonotitan', 'wuerhosaurus', 'wulagasaurus', 'wulatelong', 'wyleyia', 'wyomingraptor', 'xenoceratops', 'xenoposeidon', 'xenotarsosaurus', 'xianshanosaurus', 'xiaosaurus', 'xingxiulong', 'xinjiangovenator', 'xinjiangtitan', 'xiongguanlong', 'xixianykus', 'xixiasaurus', 'xixiposaurus', 'xuanhanosaurus', 'xuanhuaceratops', 'xuanhuasaurus', 'xuwulong', 'yaleosaurus', 'yamaceratops', 'yandusaurus', 'yangchuanosaurus', 'yaverlandia', 'yehuecauhceratops', 'yezosaurus', 'yibinosaurus', 'yimenosaurus', 'yingshanosaurus', 'yinlong', 'yixianosaurus', 'yizhousaurus', 'yongjinglong', 'yuanmouraptor', 'yuanmousaurus', 'yueosaurus', 'yulong', 'yunganglong', 'yunmenglong', 'yunnanosaurus', 'yunxianosaurus', 'yurgovuchia', 'yutyrannus', 'zanabazar', 'zanclodon', 'zapalasaurus', 'zapsalis', 'zaraapelta', 'zatomuszby', 'zephyrosaurus', 'zhanghenglong', 'zhejiangosaurus', 'zhenyuanlong', 'zhongornis', 'zhongjianosaurus', 'zhongyuansaurus', 'zhuchengceratops', 'zhuchengosaurus', 'zhuchengtitan', 'zhuchengtyrannus', 'ziapelta', 'zigongosaurus', 'zizhongosaurus', 'zuniceratops', 'zunityrannus', 'zuolong', 'zuoyunlong', 'zupaysaurus', 'zuul']\n"
     ]
    }
   ],
   "source": [
    "obj = Name_Generator()"
   ]
  },
  {
   "cell_type": "code",
   "execution_count": 13,
   "metadata": {},
   "outputs": [
    {
     "name": "stdout",
     "output_type": "stream",
     "text": [
      "-------------------- Epoch 1 --------------------\n"
     ]
    },
    {
     "ename": "AttributeError",
     "evalue": "'Name_Generator' object has no attribute 'model'",
     "output_type": "error",
     "traceback": [
      "\u001b[0;31m---------------------------------------------------------------------------\u001b[0m",
      "\u001b[0;31mAttributeError\u001b[0m                            Traceback (most recent call last)",
      "\u001b[0;32m/tmp/ipykernel_10138/1830028068.py\u001b[0m in \u001b[0;36m<module>\u001b[0;34m\u001b[0m\n\u001b[0;32m----> 1\u001b[0;31m \u001b[0mobj\u001b[0m\u001b[0;34m.\u001b[0m\u001b[0mfit\u001b[0m\u001b[0;34m(\u001b[0m\u001b[0;34m)\u001b[0m\u001b[0;34m\u001b[0m\u001b[0;34m\u001b[0m\u001b[0m\n\u001b[0m",
      "\u001b[0;32m/tmp/ipykernel_10138/258289389.py\u001b[0m in \u001b[0;36mfit\u001b[0;34m(self)\u001b[0m\n\u001b[1;32m     99\u001b[0m         \u001b[0;32mfor\u001b[0m \u001b[0me\u001b[0m \u001b[0;32min\u001b[0m \u001b[0mrange\u001b[0m\u001b[0;34m(\u001b[0m\u001b[0;36m1\u001b[0m\u001b[0;34m,\u001b[0m \u001b[0mself\u001b[0m\u001b[0;34m.\u001b[0m\u001b[0mepochs\u001b[0m\u001b[0;34m+\u001b[0m\u001b[0;36m1\u001b[0m\u001b[0;34m)\u001b[0m\u001b[0;34m:\u001b[0m\u001b[0;34m\u001b[0m\u001b[0;34m\u001b[0m\u001b[0m\n\u001b[1;32m    100\u001b[0m             \u001b[0mprint\u001b[0m\u001b[0;34m(\u001b[0m\u001b[0;34mf'{\"-\"*20} Epoch {e} {\"-\"*20}'\u001b[0m\u001b[0;34m)\u001b[0m\u001b[0;34m\u001b[0m\u001b[0;34m\u001b[0m\u001b[0m\n\u001b[0;32m--> 101\u001b[0;31m             \u001b[0mself\u001b[0m\u001b[0;34m.\u001b[0m\u001b[0mtrain\u001b[0m\u001b[0;34m(\u001b[0m\u001b[0;34m)\u001b[0m\u001b[0;34m\u001b[0m\u001b[0;34m\u001b[0m\u001b[0m\n\u001b[0m\u001b[1;32m    102\u001b[0m \u001b[0;34m\u001b[0m\u001b[0m\n\u001b[1;32m    103\u001b[0m     \u001b[0;32mdef\u001b[0m \u001b[0mprint_ds\u001b[0m\u001b[0;34m(\u001b[0m\u001b[0mself\u001b[0m\u001b[0;34m,\u001b[0m \u001b[0mnum_examples\u001b[0m\u001b[0;34m=\u001b[0m\u001b[0;36m10\u001b[0m\u001b[0;34m)\u001b[0m\u001b[0;34m:\u001b[0m\u001b[0;34m\u001b[0m\u001b[0;34m\u001b[0m\u001b[0m\n",
      "\u001b[0;32m/tmp/ipykernel_10138/258289389.py\u001b[0m in \u001b[0;36mtrain\u001b[0;34m(self)\u001b[0m\n\u001b[1;32m     79\u001b[0m             \u001b[0my\u001b[0m \u001b[0;34m=\u001b[0m \u001b[0mtorch\u001b[0m\u001b[0;34m.\u001b[0m\u001b[0munsqueeze\u001b[0m\u001b[0;34m(\u001b[0m\u001b[0my\u001b[0m\u001b[0;34m,\u001b[0m \u001b[0;36m0\u001b[0m\u001b[0;34m)\u001b[0m\u001b[0;34m\u001b[0m\u001b[0;34m\u001b[0m\u001b[0m\n\u001b[1;32m     80\u001b[0m \u001b[0;34m\u001b[0m\u001b[0m\n\u001b[0;32m---> 81\u001b[0;31m             \u001b[0mself\u001b[0m\u001b[0;34m.\u001b[0m\u001b[0mmodel\u001b[0m\u001b[0;34m.\u001b[0m\u001b[0mtrain\u001b[0m\u001b[0;34m(\u001b[0m\u001b[0;34m)\u001b[0m\u001b[0;34m\u001b[0m\u001b[0;34m\u001b[0m\u001b[0m\n\u001b[0m\u001b[1;32m     82\u001b[0m             \u001b[0mloss\u001b[0m \u001b[0;34m=\u001b[0m \u001b[0;36m0\u001b[0m\u001b[0;34m\u001b[0m\u001b[0;34m\u001b[0m\u001b[0m\n\u001b[1;32m     83\u001b[0m             \u001b[0mself\u001b[0m\u001b[0;34m.\u001b[0m\u001b[0moptimizer\u001b[0m\u001b[0;34m.\u001b[0m\u001b[0mzero_grad\u001b[0m\u001b[0;34m(\u001b[0m\u001b[0;34m)\u001b[0m\u001b[0;34m\u001b[0m\u001b[0;34m\u001b[0m\u001b[0m\n",
      "\u001b[0;31mAttributeError\u001b[0m: 'Name_Generator' object has no attribute 'model'"
     ]
    }
   ],
   "source": [
    "obj.fit()"
   ]
  },
  {
   "cell_type": "code",
   "execution_count": 103,
   "metadata": {},
   "outputs": [
    {
     "name": "stdout",
     "output_type": "stream",
     "text": [
      "**************************************************\n",
      "'aachenosaurus\\n'\n",
      "'aachenosaurus'\n",
      "**************************************************\n",
      "'aardonyx\\n'\n",
      "'aardonyx'\n",
      "**************************************************\n",
      "'abdallahsaurus\\n'\n",
      "'abdallahsaurus'\n",
      "**************************************************\n",
      "'abelisaurus\\n'\n",
      "'abelisaurus'\n",
      "**************************************************\n",
      "'abrictosaurus\\n'\n",
      "'abrictosaurus'\n",
      "**************************************************\n",
      "'abrosaurus\\n'\n",
      "'abrosaurus'\n"
     ]
    }
   ],
   "source": [
    "obj.print_ds(5)"
   ]
  },
  {
   "cell_type": "code",
   "execution_count": null,
   "metadata": {},
   "outputs": [],
   "source": []
  }
 ],
 "metadata": {
  "kernelspec": {
   "display_name": "Python 3",
   "language": "python",
   "name": "python3"
  },
  "language_info": {
   "codemirror_mode": {
    "name": "ipython",
    "version": 3
   },
   "file_extension": ".py",
   "mimetype": "text/x-python",
   "name": "python",
   "nbconvert_exporter": "python",
   "pygments_lexer": "ipython3",
   "version": "3.9.5"
  }
 },
 "nbformat": 4,
 "nbformat_minor": 4
}
