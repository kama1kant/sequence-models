{
 "cells": [
  {
   "cell_type": "code",
   "execution_count": 103,
   "metadata": {
    "collapsed": false,
    "jupyter": {
     "outputs_hidden": false
    }
   },
   "outputs": [],
   "source": [
    "%matplotlib inline\n",
    "from __future__ import unicode_literals, print_function, division\n",
    "from io import open\n",
    "import glob\n",
    "import os\n",
    "import unicodedata\n",
    "import string\n",
    "import torch\n",
    "import torch.nn as nn\n",
    "import random\n",
    "import time\n",
    "import math\n",
    "import matplotlib.pyplot as plt\n",
    "import matplotlib.ticker as ticker"
   ]
  },
  {
   "cell_type": "code",
   "execution_count": 104,
   "metadata": {
    "collapsed": false,
    "jupyter": {
     "outputs_hidden": false
    }
   },
   "outputs": [],
   "source": [
    "class Utility():\n",
    "    def __init__(self, classifier):\n",
    "        pass\n",
    "        self.all_letters = string.ascii_letters + \" .,;'\"\n",
    "        self.n_letters = len(self.all_letters)\n",
    "\n",
    "    \n",
    "    def findFiles(self, path): return glob.glob(path)\n",
    "    \n",
    "    def unicodeToAscii(self, s):\n",
    "        return ''.join(\n",
    "            c for c in unicodedata.normalize('NFD', s)\n",
    "            if unicodedata.category(c) != 'Mn'\n",
    "            and c in self.all_letters\n",
    "        )\n",
    "    \n",
    "    def readLines(self, filename):\n",
    "        lines = open(filename, encoding='utf-8').read().strip().split('\\n')\n",
    "        return [self.unicodeToAscii(line) for line in lines]\n",
    "\n",
    "    def randomChoice(self, l):\n",
    "        return l[random.randint(0, len(l) - 1)]\n",
    "\n",
    "    def timeSince(self, since):\n",
    "        now = time.time()\n",
    "        s = now - since\n",
    "        m = math.floor(s / 60)\n",
    "        s -= m * 60\n",
    "        return '%dm %ds' % (m, s)\n",
    "\n",
    "    def letterToIndex(self, letter):\n",
    "        return self.all_letters.find(letter)\n",
    "\n",
    "    def letterToTensor(self, letter):\n",
    "        tensor = torch.zeros(1, self.n_letters)\n",
    "        tensor[0][self.letterToIndex(letter)] = 1\n",
    "        return tensor\n",
    "\n",
    "    def lineToTensor(self, line):\n",
    "        tensor = torch.zeros(len(line), 1, self.n_letters)\n",
    "        for li, letter in enumerate(line):\n",
    "            tensor[li][0][self.letterToIndex(letter)] = 1\n",
    "        return tensor\n",
    "    \n",
    "    def categoryFromOutput(self, output):\n",
    "        top_n, top_i = output.topk(1)\n",
    "        category_i = top_i[0].item()\n",
    "        return classifier.all_categories[category_i], category_i\n",
    "\n",
    "    def randomTrainingExample(self):\n",
    "        category = self.randomChoice(classifier.all_categories)\n",
    "        line = self.randomChoice(classifier.category_lines[category])\n",
    "        category_tensor = torch.tensor([classifier.all_categories.index(category)], dtype=torch.long)\n",
    "        line_tensor = self.lineToTensor(line)\n",
    "        return category, line, category_tensor, line_tensor"
   ]
  },
  {
   "cell_type": "code",
   "execution_count": 105,
   "metadata": {
    "collapsed": false,
    "jupyter": {
     "outputs_hidden": false
    }
   },
   "outputs": [],
   "source": [
    "class RNN(nn.Module):\n",
    "    def __init__(self, input_size, hidden_size, output_size):\n",
    "        super(RNN, self).__init__()\n",
    "        self.hidden_size = hidden_size\n",
    "        \n",
    "        self.i2h = nn.Linear(input_size + hidden_size, hidden_size)\n",
    "        self.i2o = nn.Linear(input_size + hidden_size, output_size)\n",
    "        self.softmax = nn.LogSoftmax(dim=1)\n",
    "\n",
    "    def forward(self, input, hidden):\n",
    "        combined = torch.cat((input, hidden), 1)\n",
    "        hidden = self.i2h(combined)\n",
    "        output = self.i2o(combined)\n",
    "        output = self.softmax(output)\n",
    "        return output, hidden\n",
    "\n",
    "    def initHidden(self):\n",
    "        return torch.zeros(1, self.hidden_size)"
   ]
  },
  {
   "cell_type": "code",
   "execution_count": 117,
   "metadata": {
    "collapsed": false,
    "jupyter": {
     "outputs_hidden": false
    }
   },
   "outputs": [],
   "source": [
    "class Name_Classifier():\n",
    "    def __init__(self):\n",
    "        self.util = Utility(self)\n",
    "        self.init_hparams()\n",
    "        self.getData()\n",
    "        self.getModel()\n",
    "        \n",
    "    def init_hparams(self):\n",
    "        self.n_iters = 100000\n",
    "        self.print_every = 5000\n",
    "        self.plot_every = 1000\n",
    "        self.criterion = nn.NLLLoss()\n",
    "        self.learning_rate = 0.005\n",
    "        self.n_hidden = 128\n",
    "    \n",
    "    def getData(self):\n",
    "\n",
    "        self.category_lines = {}\n",
    "        self.all_categories = []\n",
    "\n",
    "        for filename in self.util.findFiles('data/names/*.txt'):\n",
    "            self.category = os.path.splitext(os.path.basename(filename))[0]\n",
    "            self.all_categories.append(self.category)\n",
    "            self.lines = self.util.readLines(filename)\n",
    "            self.category_lines[self.category] = self.lines\n",
    "\n",
    "        self.n_categories = len(self.all_categories)\n",
    "    \n",
    "    def getModel(self):\n",
    "        self.rnn = RNN(self.util.n_letters, self.n_hidden, self.n_categories)\n",
    "        \n",
    "        input = self.util.letterToTensor('A')\n",
    "        hidden = torch.zeros(1, self.n_hidden)\n",
    "        output, next_hidden = self.rnn(input, hidden)\n",
    "        \n",
    "        input = self.util.lineToTensor('Albert')\n",
    "        hidden = torch.zeros(1, self.n_hidden)\n",
    "\n",
    "        output, next_hidden = self.rnn(input[0], hidden)\n",
    "        print(output)\n",
    "        \n",
    "\n",
    "    def train(self, category_tensor, line_tensor):\n",
    "        hidden = self.rnn.initHidden()\n",
    "\n",
    "        self.rnn.zero_grad()\n",
    "\n",
    "        for i in range(line_tensor.size()[0]):\n",
    "            output, hidden = self.rnn(line_tensor[i], hidden)\n",
    "\n",
    "        loss = self.criterion(output, category_tensor)\n",
    "        loss.backward()\n",
    "\n",
    "        for p in self.rnn.parameters():\n",
    "            p.data.add_(p.grad.data, alpha=-self.learning_rate)\n",
    "\n",
    "        return output, loss.item()\n",
    "    \n",
    "    def fit(self):\n",
    "        current_loss = 0\n",
    "        self.all_losses = []\n",
    "        start = time.time()\n",
    "\n",
    "        for iter in range(1, self.n_iters + 1):\n",
    "            category, line, category_tensor, line_tensor = util.randomTrainingExample()\n",
    "            output, loss = classifier.train(category_tensor, line_tensor)\n",
    "            current_loss += loss\n",
    "\n",
    "            if iter % self.print_every == 0:\n",
    "                guess, guess_i = util.categoryFromOutput(output)\n",
    "                correct = '✓' if guess == category else '✗ (%s)' % category\n",
    "                print('%d %d%% (%s) %.4f %s / %s %s' % (iter, iter / self.n_iters * 100, util.timeSince(start), loss, line, guess, correct))\n",
    "\n",
    "            if iter % self.plot_every == 0:\n",
    "                self.all_losses.append(current_loss / self.plot_every)\n",
    "                current_loss = 0\n",
    "    \n",
    "    def evaluate(self, line_tensor):\n",
    "        hidden = self.rnn.initHidden()\n",
    "\n",
    "        for i in range(line_tensor.size()[0]):\n",
    "            output, hidden = self.rnn(line_tensor[i], hidden)\n",
    "\n",
    "        return output\n",
    "\n",
    "    def predict(self, input_line, n_predictions=3):\n",
    "        print('\\n> %s' % input_line)\n",
    "        with torch.no_grad():\n",
    "            output = self.evaluate(util.lineToTensor(input_line))\n",
    "\n",
    "            topv, topi = output.topk(n_predictions, 1, True)\n",
    "            predictions = []\n",
    "\n",
    "            for i in range(n_predictions):\n",
    "                value = topv[0][i].item()\n",
    "                category_index = topi[0][i].item()\n",
    "                print('(%.2f) %s' % (value, self.all_categories[category_index]))\n",
    "                predictions.append([value, self.all_categories[category_index]])\n",
    "    \n",
    "    def plot_loss(self):\n",
    "        plt.figure()\n",
    "        plt.plot(self.all_losses)\n",
    "    \n",
    "    def plot_confusion_matrix(self):\n",
    "        confusion = torch.zeros(self.n_categories, self.n_categories)\n",
    "        n_confusion = 10000\n",
    "\n",
    "        for i in range(n_confusion):\n",
    "            category, line, category_tensor, line_tensor = util.randomTrainingExample()\n",
    "            output = classifier.evaluate(line_tensor)\n",
    "            guess, guess_i = util.categoryFromOutput(output)\n",
    "            category_i = self.all_categories.index(category)\n",
    "            confusion[category_i][guess_i] += 1\n",
    "\n",
    "        for i in range(self.n_categories):\n",
    "            confusion[i] = confusion[i] / confusion[i].sum()\n",
    "\n",
    "        fig = plt.figure()\n",
    "        ax = fig.add_subplot(111)\n",
    "        cax = ax.matshow(confusion.numpy())\n",
    "        fig.colorbar(cax)\n",
    "\n",
    "        ax.set_xticklabels([''] + self.all_categories, rotation=90)\n",
    "        ax.set_yticklabels([''] + self.all_categories)\n",
    "        ax.xaxis.set_major_locator(ticker.MultipleLocator(1))\n",
    "        ax.yaxis.set_major_locator(ticker.MultipleLocator(1))\n",
    "\n",
    "        plt.show()"
   ]
  },
  {
   "cell_type": "code",
   "execution_count": 118,
   "metadata": {
    "collapsed": false,
    "jupyter": {
     "outputs_hidden": false
    }
   },
   "outputs": [
    {
     "name": "stdout",
     "output_type": "stream",
     "text": [
      "tensor([[-2.7631, -2.8420, -2.8503, -2.9216, -2.8627, -2.8809, -2.9566, -2.8501,\n",
      "         -2.8752, -2.9789, -2.9082, -2.8730, -2.8305, -2.9472, -2.9033, -2.9388,\n",
      "         -2.9425, -2.9272]], grad_fn=<LogSoftmaxBackward>)\n"
     ]
    }
   ],
   "source": [
    "classifier = Name_Classifier()\n",
    "util = Utility(classifier)"
   ]
  },
  {
   "cell_type": "code",
   "execution_count": 108,
   "metadata": {
    "collapsed": false,
    "jupyter": {
     "outputs_hidden": false
    }
   },
   "outputs": [
    {
     "name": "stdout",
     "output_type": "stream",
     "text": [
      "['data/names/Russian.txt', 'data/names/Italian.txt', 'data/names/Vietnamese.txt', 'data/names/Dutch.txt', 'data/names/Irish.txt', 'data/names/Arabic.txt', 'data/names/Portuguese.txt', 'data/names/Scottish.txt', 'data/names/German.txt', 'data/names/French.txt', 'data/names/Greek.txt', 'data/names/Spanish.txt', 'data/names/Polish.txt', 'data/names/Czech.txt', 'data/names/Japanese.txt', 'data/names/English.txt', 'data/names/Chinese.txt', 'data/names/Korean.txt']\n",
      "Slusarski\n"
     ]
    }
   ],
   "source": [
    "print(util.findFiles('data/names/*.txt'))\n",
    "print(util.unicodeToAscii('Ślusàrski'))"
   ]
  },
  {
   "cell_type": "code",
   "execution_count": 109,
   "metadata": {
    "collapsed": false,
    "jupyter": {
     "outputs_hidden": false
    }
   },
   "outputs": [
    {
     "name": "stdout",
     "output_type": "stream",
     "text": [
      "['Abandonato', 'Abatangelo', 'Abatantuono', 'Abate', 'Abategiovanni']\n"
     ]
    }
   ],
   "source": [
    "print(classifier.category_lines['Italian'][:5])"
   ]
  },
  {
   "cell_type": "code",
   "execution_count": 110,
   "metadata": {
    "collapsed": false,
    "jupyter": {
     "outputs_hidden": false
    }
   },
   "outputs": [
    {
     "name": "stdout",
     "output_type": "stream",
     "text": [
      "tensor([[0., 0., 0., 0., 0., 0., 0., 0., 0., 0., 0., 0., 0., 0., 0., 0., 0., 0.,\n",
      "         0., 0., 0., 0., 0., 0., 0., 0., 0., 0., 0., 0., 0., 0., 0., 0., 0., 1.,\n",
      "         0., 0., 0., 0., 0., 0., 0., 0., 0., 0., 0., 0., 0., 0., 0., 0., 0., 0.,\n",
      "         0., 0., 0.]])\n",
      "torch.Size([5, 1, 57])\n"
     ]
    }
   ],
   "source": [
    "print(util.letterToTensor('J'))\n",
    "print(util.lineToTensor('Jones').size())"
   ]
  },
  {
   "cell_type": "code",
   "execution_count": 111,
   "metadata": {
    "collapsed": false,
    "jupyter": {
     "outputs_hidden": false
    }
   },
   "outputs": [],
   "source": [
    "# print(util.categoryFromOutput(output))"
   ]
  },
  {
   "cell_type": "code",
   "execution_count": 112,
   "metadata": {
    "collapsed": false,
    "jupyter": {
     "outputs_hidden": false
    }
   },
   "outputs": [
    {
     "name": "stdout",
     "output_type": "stream",
     "text": [
      "category = Arabic / line = Hakimi\n",
      "category = Spanish / line = Ojeda\n",
      "category = Polish / line = Kumiega\n",
      "category = Greek / line = Koumanidis\n",
      "category = Polish / line = Dziedzic\n",
      "category = Polish / line = Wojewodzki\n",
      "category = Irish / line = Daly\n",
      "category = Japanese / line = Kanesaka\n",
      "category = English / line = Kone\n",
      "category = Arabic / line = Amari\n"
     ]
    }
   ],
   "source": [
    "for i in range(10):\n",
    "    category, line, category_tensor, line_tensor = util.randomTrainingExample()\n",
    "    print('category =', category, '/ line =', line)"
   ]
  },
  {
   "cell_type": "code",
   "execution_count": 113,
   "metadata": {
    "collapsed": false,
    "jupyter": {
     "outputs_hidden": false
    }
   },
   "outputs": [
    {
     "name": "stdout",
     "output_type": "stream",
     "text": [
      "5000 5% (0m 2s) 2.9245 Oorschot / Russian ✗ (Dutch)\n",
      "10000 10% (0m 4s) 1.7630 Bach / Vietnamese ✓\n",
      "15000 15% (0m 7s) 2.2774 Deighton / Scottish ✗ (English)\n",
      "20000 20% (0m 9s) 1.6730 Mitchell / Scottish ✓\n",
      "25000 25% (0m 12s) 3.4977 Nunes / Vietnamese ✗ (Portuguese)\n",
      "30000 30% (0m 15s) 0.5320 Huynh / Vietnamese ✓\n",
      "35000 35% (0m 17s) 0.5977 Gomulka / Polish ✓\n",
      "40000 40% (0m 20s) 0.1502 Tchekonov / Russian ✓\n",
      "45000 45% (0m 22s) 0.1573 Mcmillan / Scottish ✓\n",
      "50000 50% (0m 25s) 1.2132 Simecek / Czech ✓\n",
      "55000 55% (0m 27s) 2.4766 Baumann / Irish ✗ (German)\n",
      "60000 60% (0m 30s) 0.8489 Herbert / German ✓\n",
      "65000 65% (0m 32s) 1.2000 Tang / Vietnamese ✗ (Chinese)\n",
      "70000 70% (0m 35s) 2.6723 Desjardins / Greek ✗ (French)\n",
      "75000 75% (0m 37s) 1.0581 Franco / Italian ✓\n",
      "80000 80% (0m 40s) 5.0868 Kokkali / Japanese ✗ (Greek)\n",
      "85000 85% (0m 42s) 0.3059 Kinashita / Japanese ✓\n",
      "90000 90% (0m 45s) 0.2519 Rudaski / Polish ✓\n",
      "95000 95% (0m 47s) 1.3831 Kerr / German ✗ (Scottish)\n",
      "100000 100% (0m 50s) 0.2952 Usami / Japanese ✓\n"
     ]
    }
   ],
   "source": [
    "classifier.fit()"
   ]
  },
  {
   "cell_type": "code",
   "execution_count": 114,
   "metadata": {
    "collapsed": false,
    "jupyter": {
     "outputs_hidden": false
    }
   },
   "outputs": [
    {
     "data": {
      "image/png": "[encoded data removed]",
      "text/plain": [
       "<Figure size 432x288 with 1 Axes>"
      ]
     },
     "metadata": {
      "needs_background": "light"
     },
     "output_type": "display_data"
    }
   ],
   "source": [
    "classifier.plot_loss()"
   ]
  },
  {
   "cell_type": "code",
   "execution_count": 119,
   "metadata": {
    "collapsed": false,
    "jupyter": {
     "outputs_hidden": false
    }
   },
   "outputs": [
    {
     "name": "stderr",
     "output_type": "stream",
     "text": [
      "/tmp/ipykernel_2369/2947576769.py:123: UserWarning: FixedFormatter should only be used together with FixedLocator\n",
      "  ax.set_xticklabels([''] + self.all_categories, rotation=90)\n",
      "/tmp/ipykernel_2369/2947576769.py:124: UserWarning: FixedFormatter should only be used together with FixedLocator\n",
      "  ax.set_yticklabels([''] + self.all_categories)\n"
     ]
    },
    {
     "data": {
      "image/png": "[encoded data removed]",
      "text/plain": [
       "<Figure size 432x288 with 2 Axes>"
      ]
     },
     "metadata": {
      "needs_background": "light"
     },
     "output_type": "display_data"
    }
   ],
   "source": [
    "classifier.plot_confusion_matrix()"
   ]
  },
  {
   "cell_type": "code",
   "execution_count": 116,
   "metadata": {
    "collapsed": false,
    "jupyter": {
     "outputs_hidden": false
    }
   },
   "outputs": [
    {
     "name": "stdout",
     "output_type": "stream",
     "text": [
      "\n",
      "> Dovesky\n",
      "(-0.13) Russian\n",
      "(-2.48) Czech\n",
      "(-3.76) English\n",
      "\n",
      "> Jackson\n",
      "(-0.51) Scottish\n",
      "(-1.69) English\n",
      "(-2.72) Russian\n",
      "\n",
      "> Satoshi\n",
      "(-1.12) Japanese\n",
      "(-2.07) Italian\n",
      "(-2.47) Russian\n"
     ]
    }
   ],
   "source": [
    "classifier.predict('Dovesky')\n",
    "classifier.predict('Jackson')\n",
    "classifier.predict('Satoshi')"
   ]
  },
  {
   "cell_type": "code",
   "execution_count": null,
   "metadata": {},
   "outputs": [],
   "source": []
  }
 ],
 "metadata": {
  "kernelspec": {
   "display_name": "Python 3",
   "language": "python",
   "name": "python3"
  },
  "language_info": {
   "codemirror_mode": {
    "name": "ipython",
    "version": 3
   },
   "file_extension": ".py",
   "mimetype": "text/x-python",
   "name": "python",
   "nbconvert_exporter": "python",
   "pygments_lexer": "ipython3",
   "version": "3.9.5"
  }
 },
 "nbformat": 4,
 "nbformat_minor": 4
}
